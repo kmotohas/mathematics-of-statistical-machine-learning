{
 "cells": [
  {
   "cell_type": "markdown",
   "metadata": {},
   "source": [
    "# 1. 線形回帰"
   ]
  },
  {
   "cell_type": "code",
   "execution_count": 6,
   "metadata": {},
   "outputs": [
    {
     "name": "stderr",
     "output_type": "stream",
     "text": [
      "/Users/kmotohas/learn/mathematics-of-statistical-machine-learning/.venv/lib/python3.7/site-packages/japanize_matplotlib/japanize_matplotlib.py:15: MatplotlibDeprecationWarning: \n",
      "The createFontList function was deprecated in Matplotlib 3.2 and will be removed two minor releases later. Use FontManager.addfont instead.\n",
      "  font_list = font_manager.createFontList(font_files)\n"
     ]
    }
   ],
   "source": [
    "from typing import List, Tuple\n",
    "import numpy as np\n",
    "import matplotlib.pyplot as plt\n",
    "import japanize_matplotlib\n",
    "import scipy\n",
    "from scipy import stats\n",
    "from numpy.random import randn\n",
    "import copy"
   ]
  },
  {
   "cell_type": "markdown",
   "metadata": {},
   "source": [
    "## 1.1 最小二乗法"
   ]
  },
  {
   "cell_type": "markdown",
   "metadata": {},
   "source": [
    "$$\n",
    "\\begin{eqnarray}\n",
    "\\hat{\\beta}_1 &=& \\frac{\\sum^N_{i=1}(x_i-\\bar{x})(y_i-\\bar{y})}{\\sum^N_{i=1}(x_i-\\bar{x})^2} \\\\\n",
    "\\hat{\\beta}_0 &=& \\bar{y} - \\hat{\\beta}_1\\bar{x}\n",
    "\\end{eqnarray}\n",
    "$$\n",
    "\n",
    "$\\hat{\\beta}_1$ は行列 $X=(x_1, ..., x_N),\\, Y=(y_1, ..., y_N)$ と単位行列$I$を用いて以下のように書き換えられる。\n",
    "\n",
    "$$\n",
    "\\hat{\\beta}_1 = \\frac{(X-\\bar{x}I)\\cdot(Y-\\bar{y}I)}{||X-\\bar{x}||_2}\n",
    "$$"
   ]
  },
  {
   "cell_type": "code",
   "execution_count": 19,
   "metadata": {},
   "outputs": [],
   "source": [
    "def min_sq(x: np.array, y: np.array) -> Tuple[float, float]:\n",
    "    \n",
    "    x_bar, y_bar = np.mean(x), np.mean(y)\n",
    "    beta_1 = np.dot((x - x_bar), (y - y_bar)) / np.linalg.norm(x - x_bar) ** 2\n",
    "    beta_0 = y_bar - beta_1 * x_bar\n",
    "    return (beta_1, beta_0)"
   ]
  },
  {
   "cell_type": "code",
   "execution_count": 20,
   "metadata": {},
   "outputs": [
    {
     "name": "stdout",
     "output_type": "stream",
     "text": [
      "(100,) (1,) (100,) (100,)\n"
     ]
    }
   ],
   "source": [
    "N = 100\n",
    "# location (mean), scale (standard deviation), size (output shape)\n",
    "a = np.random.normal(loc=2, scale=1, size=N)\n",
    "b = randn(1)\n",
    "x = randn(N)\n",
    "y = a * x + b\n",
    "print(a.shape, b.shape, x.shape, y.shape)"
   ]
  },
  {
   "cell_type": "code",
   "execution_count": 21,
   "metadata": {},
   "outputs": [
    {
     "data": {
      "text/plain": [
       "<matplotlib.collections.PathCollection at 0x11ae70490>"
      ]
     },
     "execution_count": 21,
     "metadata": {},
     "output_type": "execute_result"
    },
    {
     "data": {
      "image/png": "[encoded data removed]",
      "text/plain": [
       "<Figure size 432x288 with 1 Axes>"
      ]
     },
     "metadata": {
      "needs_background": "light"
     },
     "output_type": "display_data"
    }
   ],
   "source": [
    "plt.scatter(x, y)"
   ]
  },
  {
   "cell_type": "code",
   "execution_count": 22,
   "metadata": {},
   "outputs": [
    {
     "name": "stdout",
     "output_type": "stream",
     "text": [
      "1.963605276588001 -0.5789582425138482\n"
     ]
    }
   ],
   "source": [
    "beta1, beta0 = min_sq(x, y)\n",
    "print(beta1, beta0)"
   ]
  },
  {
   "cell_type": "code",
   "execution_count": 23,
   "metadata": {},
   "outputs": [],
   "source": [
    "x_sequence = np.arange(-5, 5, 0.1)\n",
    "y_hat = x_sequence * beta1 + beta0"
   ]
  },
  {
   "cell_type": "code",
   "execution_count": 25,
   "metadata": {},
   "outputs": [
    {
     "data": {
      "text/plain": [
       "[<matplotlib.lines.Line2D at 0x11d919510>]"
      ]
     },
     "execution_count": 25,
     "metadata": {},
     "output_type": "execute_result"
    },
    {
     "data": {
      "image/png": "[encoded data removed]",
      "text/plain": [
       "<Figure size 432x288 with 1 Axes>"
      ]
     },
     "metadata": {
      "needs_background": "light"
     },
     "output_type": "display_data"
    }
   ],
   "source": [
    "plt.scatter(x, y)\n",
    "plt.plot(x_sequence, y_hat, c='orange')"
   ]
  },
  {
   "cell_type": "markdown",
   "metadata": {},
   "source": [
    "## 1.2 重回帰"
   ]
  },
  {
   "cell_type": "code",
   "execution_count": null,
   "metadata": {},
   "outputs": [],
   "source": []
  }
 ],
 "metadata": {
  "kernelspec": {
   "display_name": "mathematics-of-stastical-machine-learning",
   "language": "python",
   "name": "mathematics-of-stastical-machine-learning"
  },
  "language_info": {
   "codemirror_mode": {
    "name": "ipython",
    "version": 3
   },
   "file_extension": ".py",
   "mimetype": "text/x-python",
   "name": "python",
   "nbconvert_exporter": "python",
   "pygments_lexer": "ipython3",
   "version": "3.7.7"
  }
 },
 "nbformat": 4,
 "nbformat_minor": 4
}
